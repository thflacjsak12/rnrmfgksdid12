{
 "cells": [
  {
   "cell_type": "markdown",
   "metadata": {},
   "source": [
    "모든 자료는 김종환 교수에 의해 만들어졌습니다."
   ]
  },
  {
   "cell_type": "markdown",
   "metadata": {},
   "source": [
    "## 자 이제부터 OpenCV의 첫걸음을 시작하겠습니다.\n",
    "\n",
    "### 1. OpenCV를 이용해서 이미지를 불러오기"
   ]
  },
  {
   "cell_type": "markdown",
   "metadata": {},
   "source": [
    "먼저, OpenCV 라이브러리를 불러옵니다."
   ]
  },
  {
   "cell_type": "code",
   "execution_count": 1,
   "metadata": {},
   "outputs": [],
   "source": [
    "import cv2"
   ]
  },
  {
   "cell_type": "markdown",
   "metadata": {},
   "source": [
    "다음에, Numpy 라이브러리를 불러옵니다."
   ]
  },
  {
   "cell_type": "code",
   "execution_count": 2,
   "metadata": {},
   "outputs": [],
   "source": [
    "import numpy as np "
   ]
  },
  {
   "cell_type": "markdown",
   "metadata": {},
   "source": [
    "강아지 이미지를 불러오겠습니다.  강아지 이미지의 이름은 cute_dog.jpg 입니다."
   ]
  },
  {
   "cell_type": "code",
   "execution_count": 3,
   "metadata": {},
   "outputs": [],
   "source": [
    "import cv2  #시험출제\n",
    "\n",
    "# OpenCV에 하위함수인 imread 를 사용하여 이미지를 불러옵니다.\n",
    "img = cv2.imread('images/cute_dog.jpg')\n",
    "\n",
    "# 이제 cute_dog.jpg 파일은 img이라는 이름으로 파이썬에 메모리에 저장이 되었습니다.\n",
    "\n",
    "# 이미지를 출력하기 위해선 imshow 라는 함수를 사용합니다.\n",
    "# 첫번째 파라미터는 이미지를 보여주는 윈도우창의 이름이고, \n",
    "# 두번째 파라미터는 이미지를 저장한 파일명을 넣습니다. 여기서는 img 입니다.\n",
    "cv2.imshow('First Image', img)\n",
    "\n",
    "# 'waitKey' 함수는 임의의 키보드가 눌러지기 전까지 프로그램을 기다리도록 합니다.\n",
    "# 기다리는 시간을 제어하려면 괄호안에 milisecond를 입력하면 됩니다.\n",
    "cv2.waitKey()\n",
    "\n",
    "# destroyAllWindows 함수는 실행한 결과창을 다 제거하는 것으로,\n",
    "# 항상 코드의 마지막에 넣어두기 바랍니다.\n",
    "cv2.destroyAllWindows()"
   ]
  },
  {
   "cell_type": "code",
   "execution_count": 4,
   "metadata": {},
   "outputs": [],
   "source": [
    "# Same as above without the extraneous comments   #이 다섯줄은 외우자\n",
    "\n",
    "import cv2 \n",
    "\n",
    "img = cv2.imread('images/cute_dog.jpg')\n",
    "cv2.imshow('First Image', img)\n",
    "cv2.waitKey(0)\n",
    "cv2.destroyAllWindows()"
   ]
  },
  {
   "cell_type": "markdown",
   "metadata": {},
   "source": [
    "### 2. 저장된 영상의 정보를 확인해 봅시다."
   ]
  },
  {
   "cell_type": "code",
   "execution_count": 5,
   "metadata": {},
   "outputs": [],
   "source": [
    "import numpy as np"
   ]
  },
  {
   "cell_type": "code",
   "execution_count": 6,
   "metadata": {},
   "outputs": [
    {
     "name": "stdout",
     "output_type": "stream",
     "text": [
      "(346, 611, 3)\n"
     ]
    }
   ],
   "source": [
    "print (img.shape) #이미지의 크기 346은 높이 611은 너비 3 은 rgb 값이다 오픈cv는 rgb가 아니고 bgr이다."
   ]
  },
  {
   "cell_type": "markdown",
   "metadata": {},
   "source": [
    "#### 강아지 사진의 크기 확인\n",
    "\n",
    "강아지 사진은 345 X 611 X 3의 크기입니다. 345 는 이미지의 높이를, 611는 이미지의 너비를 3은 RGB 영상을 나타냅니다."
   ]
  },
  {
   "cell_type": "code",
   "execution_count": 7,
   "metadata": {},
   "outputs": [
    {
     "name": "stdout",
     "output_type": "stream",
     "text": [
      "Height of Image: 346 pixels\n",
      "Width of Image:  611 pixels\n"
     ]
    }
   ],
   "source": [
    "# 이미지의 정보를 출력하겠습니다.\n",
    "\n",
    "print('Height of Image:', int(img.shape[0]), 'pixels')\n",
    "print('Width of Image: ', int(img.shape[1]), 'pixels')"
   ]
  },
  {
   "cell_type": "markdown",
   "metadata": {},
   "source": [
    "### 3. OpenCV를 이용해서 이미지를 저장하기"
   ]
  },
  {
   "cell_type": "code",
   "execution_count": 8,
   "metadata": {},
   "outputs": [
    {
     "data": {
      "text/plain": [
       "True"
      ]
     },
     "execution_count": 8,
     "metadata": {},
     "output_type": "execute_result"
    }
   ],
   "source": [
    "# 'imwrite' 함수를 사용하여 jpg 및 png 파일로 이미지를 저장하겠습니다.\n",
    "cv2.imwrite('cute_dog_output.jpg', img)\n",
    "cv2.imwrite('cute_dog_output.png', img)"
   ]
  },
  {
   "cell_type": "code",
   "execution_count": null,
   "metadata": {},
   "outputs": [],
   "source": []
  }
 ],
 "metadata": {
  "kernelspec": {
   "display_name": "Python 3",
   "language": "python",
   "name": "python3"
  },
  "language_info": {
   "codemirror_mode": {
    "name": "ipython",
    "version": 3
   },
   "file_extension": ".py",
   "mimetype": "text/x-python",
   "name": "python",
   "nbconvert_exporter": "python",
   "pygments_lexer": "ipython3",
   "version": "3.7.4"
  }
 },
 "nbformat": 4,
 "nbformat_minor": 1
}
