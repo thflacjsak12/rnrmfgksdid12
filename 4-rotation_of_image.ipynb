{
 "cells": [
  {
   "cell_type": "markdown",
   "metadata": {},
   "source": [
    "## 이미지 회전시키기(Image Rotation)\n",
    "\n",
    "이것은 이미지를 원하는 각도로 회전을 시키는 방법을 설명합니다. 여기서는 getRotationMatrix2D 함수를 사용하여 R 값을 산출하고 warpAffine함수를 적용하여 회전합니다.\n",
    "getRotationMatrix2D 함수의 입력값은 총 4가지로 (x의 중심축, y의 중심축, 회전각도, 스케일) 입니다.\n"
   ]
  },
  {
   "cell_type": "code",
   "execution_count": 4,
   "metadata": {},
   "outputs": [],
   "source": [
    "import cv2\n",
    "import numpy as np\n",
    "\n",
    "image = cv2.imread('images/cute_dog.jpg')\n",
    "height, width = image.shape[:2] # [:2]는 shape의 첫번째와 두번째 값을 동시에 얻는 방법입니다. \n",
    "\n",
    "# 이미지의 중심에서 회전하기 위해 높이와 폭의 1/2 지점을 계산하여 45도 각도로 회전, 이때 그림을 1/2로 축소\n",
    "R = cv2.getRotationMatrix2D((width/2, height/2), 45, .5) #5가 스케일임\n",
    "\n",
    "# warpAffine 함수를 이용하여 회전\n",
    "rotated_image = cv2.warpAffine(image, R, (width, height)) #R매트릭스(회전) 써줌\n",
    "\n",
    "cv2.imshow('Rotated Image', rotated_image)\n",
    "cv2.waitKey()\n",
    "cv2.destroyAllWindows()"
   ]
  },
  {
   "cell_type": "markdown",
   "metadata": {},
   "source": [
    "### 90도로 회전하는 좀더 간단한 방법\n",
    "\n",
    "이미지는 3차원 행렬이기 때문에 전치행렬(Transpose Matrix)를 적용하여 간단하게 90도 회전을 할 수 있습니다."
   ]
  },
  {
   "cell_type": "code",
   "execution_count": 5,
   "metadata": {},
   "outputs": [],
   "source": [
    "#Other Option to Rotate\n",
    "img = cv2.imread('images/cute_dog.jpg')\n",
    "\n",
    "rotated_image = cv2.transpose(img) # 전치행렬 적용\n",
    "\n",
    "cv2.imshow('Rotated Image - Method 2', rotated_image)\n",
    "cv2.waitKey()\n",
    "cv2.destroyAllWindows()"
   ]
  },
  {
   "cell_type": "markdown",
   "metadata": {
    "collapsed": true
   },
   "source": [
    "### 이미지를 좌우반전 하는 방법\n"
   ]
  },
  {
   "cell_type": "code",
   "execution_count": 12,
   "metadata": {},
   "outputs": [],
   "source": [
    "# flip 함수를 사용합니다.\n",
    "flipped = cv2.flip(image, 1) #flib은 좌우반전함수이다 함수에 쉬프트 탭 써보기\n",
    "cv2.imshow('Horizontal Flip', flipped) \n",
    "cv2.waitKey()\n",
    "cv2.destroyAllWindows()"
   ]
  },
  {
   "cell_type": "code",
   "execution_count": null,
   "metadata": {},
   "outputs": [],
   "source": []
  }
 ],
 "metadata": {
  "kernelspec": {
   "display_name": "Python 3",
   "language": "python",
   "name": "python3"
  },
  "language_info": {
   "codemirror_mode": {
    "name": "ipython",
    "version": 3
   },
   "file_extension": ".py",
   "mimetype": "text/x-python",
   "name": "python",
   "nbconvert_exporter": "python",
   "pygments_lexer": "ipython3",
   "version": "3.7.4"
  }
 },
 "nbformat": 4,
 "nbformat_minor": 1
}
