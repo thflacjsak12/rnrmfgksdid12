{
 "cells": [
  {
   "cell_type": "markdown",
   "metadata": {},
   "source": [
    "## 이미지 이동시키기(Image Translation)\n",
    "\n",
    "이것은 이미지를 좌우 혹은 위아래로 이동하는 방법을 설명합니다.\n",
    "여기서는 warpAffine 함수를 사용합니다. 이 함수는 이미지 이동에 유용하게 활용됩니다.\n"
   ]
  },
  {
   "cell_type": "code",
   "execution_count": 3,
   "metadata": {},
   "outputs": [],
   "source": [
    "import cv2\n",
    "import numpy as np\n",
    "\n",
    "image = cv2.imread('images/cute_dog.jpg')\n",
    "\n",
    "# shape 함수를 통해 이미지의 높이와 폭의 크기를 저장합니다.\n",
    "height, width = image.shape[:2] #0 과 1 이 나옴\n",
    "\n",
    "# 이미지의 높이와 폭을 1/4로 줄입니다.\n",
    "quarter_height, quarter_width = height/4, width/4  \n",
    "\n",
    "# 이론시간에 설명한 바와 같이 아래 식을 통해 이미지를 이동합니다.\n",
    "#       | 1 0 Tx |\n",
    "#  T  = | 0 1 Ty |\n",
    "\n",
    "# T 는 이미지를 x축으로 폭의 1/4만큼을 y축으로 높이의 1/4만큼을 이동하기 위한 행렬입니다.\n",
    "T = np.float32([[1, 0, quarter_width], [0, 1,quarter_height]])\n",
    "\n",
    "# 아래와 같이 warpAffine 함수를 적용하여 이미지를 이동합니다.\n",
    "img_translation = cv2.warpAffine(image, T, (width, height)) #t 매트릭스 써준다\n",
    "cv2.imshow('Translation', img_translation)\n",
    "cv2.waitKey()\n",
    "cv2.destroyAllWindows()"
   ]
  },
  {
   "cell_type": "markdown",
   "metadata": {
    "collapsed": true
   },
   "source": [
    "이미지 이동에 적용된 T 행렬의 값을 살펴보겠습니다."
   ]
  },
  {
   "cell_type": "code",
   "execution_count": 2,
   "metadata": {},
   "outputs": [
    {
     "name": "stdout",
     "output_type": "stream",
     "text": [
      "[[  1.     0.   152.75]\n",
      " [  0.     1.    86.5 ]]\n"
     ]
    }
   ],
   "source": [
    "print(T)"
   ]
  },
  {
   "cell_type": "code",
   "execution_count": null,
   "metadata": {},
   "outputs": [],
   "source": []
  }
 ],
 "metadata": {
  "kernelspec": {
   "display_name": "Python 3",
   "language": "python",
   "name": "python3"
  },
  "language_info": {
   "codemirror_mode": {
    "name": "ipython",
    "version": 3
   },
   "file_extension": ".py",
   "mimetype": "text/x-python",
   "name": "python",
   "nbconvert_exporter": "python",
   "pygments_lexer": "ipython3",
   "version": "3.7.4"
  }
 },
 "nbformat": 4,
 "nbformat_minor": 1
}
