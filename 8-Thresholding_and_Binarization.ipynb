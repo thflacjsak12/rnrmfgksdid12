{
 "cells": [
  {
   "cell_type": "markdown",
   "metadata": {},
   "source": [
    "## Thresholding 및 Binarization 살펴보기\n",
    "\n",
    "* Thresholding: 특정값을 임계기준으로 설정하는것\n",
    "* Binarization: 임계기준으로 흑과 백으로 양분하는 것\n",
    "\n",
    "먼저, 이미지 하나를 불러오겠습니다."
   ]
  },
  {
   "cell_type": "code",
   "execution_count": 1,
   "metadata": {},
   "outputs": [],
   "source": [
    "import cv2\n",
    "import numpy as np\n",
    "\n",
    "# 이미지를 흑백으로 불러오기\n",
    "image = cv2.imread('images/flower.jpg',0)\n",
    "cv2.imshow('Original', image)\n",
    "cv2.waitKey(0) \n",
    "    \n",
    "cv2.destroyAllWindows()"
   ]
  },
  {
   "cell_type": "markdown",
   "metadata": {},
   "source": [
    "이미지의 히스토그램을 한번 보도록 하겠습니다."
   ]
  },
  {
   "cell_type": "code",
   "execution_count": 3,
   "metadata": {},
   "outputs": [
    {
     "data": {
      "image/png": "[encoded data removed]",
      "text/plain": [
       "<Figure size 432x288 with 1 Axes>"
      ]
     },
     "metadata": {
      "needs_background": "light"
     },
     "output_type": "display_data"
    }
   ],
   "source": [
    "import matplotlib.pyplot as plt\n",
    "\n",
    "image = cv2.imread('images/flower.jpg',0)\n",
    "\n",
    "# 히스토그램으로 출력하기\n",
    "plt.hist(image.ravel(), 256, [0, 256])\n",
    "plt.show()"
   ]
  },
  {
   "cell_type": "markdown",
   "metadata": {},
   "source": [
    "이미지를 흑백으로 만들고 각각의 픽셀이 임계값 140을 기준으로 흑백으로 양분하겠습니다."
   ]
  },
  {
   "cell_type": "code",
   "execution_count": 2,
   "metadata": {},
   "outputs": [],
   "source": [
    "import cv2\n",
    "import numpy as np\n",
    "\n",
    "# 이미지를 흑백으로 불러오기\n",
    "image = cv2.imread('images/flower.jpg',0)\n",
    "cv2.imshow('Original', image)\n",
    "\n",
    "# 임계값 140 보다 낮으면 0, 높으면 255 로 바꾸기 \n",
    "ret,thresh1 = cv2.threshold(image, 140, 255, cv2.THRESH_BINARY)\n",
    "cv2.imshow('1 Threshold Binary', thresh1)\n",
    "\n",
    "cv2.waitKey(0) \n",
    "    \n",
    "cv2.destroyAllWindows()"
   ]
  },
  {
   "cell_type": "markdown",
   "metadata": {},
   "source": [
    "위에서 한것과 유사한 방법으로 다양한 살펴보겠습니다. "
   ]
  },
  {
   "cell_type": "code",
   "execution_count": 3,
   "metadata": {},
   "outputs": [],
   "source": [
    "import cv2\n",
    "import numpy as np\n",
    "\n",
    "image = cv2.imread('images/flower.jpg',0)\n",
    "cv2.imshow('Original', image)\n",
    "\n",
    "# 임계값 140 보다 낮으면 0, 높으면 255 로 바꾸기 \n",
    "ret,thresh1 = cv2.threshold(image, 140, 255, cv2.THRESH_BINARY)\n",
    "cv2.imshow('1 Threshold Binary', thresh1)\n",
    "cv2.waitKey(0) \n",
    "\n",
    "# 임계값 140 보다 낮으면 255, 높으면 0로 바꾸기 \n",
    "ret,thresh2 = cv2.threshold(image, 140, 255, cv2.THRESH_BINARY_INV)\n",
    "cv2.imshow('2 Threshold Binary Inverse', thresh2)\n",
    "cv2.waitKey(0) \n",
    "\n",
    "# 임계값 140 보다 낮으면 0, 높으면 그대로 바꾸기  \n",
    "ret,thresh3 = cv2.threshold(image, 140, 255, cv2.THRESH_TOZERO)\n",
    "cv2.imshow('3 THRESH TOZERO', thresh3)\n",
    "cv2.waitKey(0) \n",
    "\n",
    "# 임계값 140 보다 낮으면 그대로, 높으면 0 로 바꾸기 \n",
    "ret,thresh4 = cv2.threshold(image, 140, 255, cv2.THRESH_TOZERO_INV)\n",
    "cv2.imshow('4 THRESH TOZERO INV', thresh4)\n",
    "cv2.waitKey(0) \n",
    "    \n",
    "cv2.destroyAllWindows()"
   ]
  },
  {
   "cell_type": "code",
   "execution_count": null,
   "metadata": {},
   "outputs": [],
   "source": []
  }
 ],
 "metadata": {
  "kernelspec": {
   "display_name": "Python 3",
   "language": "python",
   "name": "python3"
  },
  "language_info": {
   "codemirror_mode": {
    "name": "ipython",
    "version": 3
   },
   "file_extension": ".py",
   "mimetype": "text/x-python",
   "name": "python",
   "nbconvert_exporter": "python",
   "pygments_lexer": "ipython3",
   "version": "3.7.4"
  }
 },
 "nbformat": 4,
 "nbformat_minor": 1
}
