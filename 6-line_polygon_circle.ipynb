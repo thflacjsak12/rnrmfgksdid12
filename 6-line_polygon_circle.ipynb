{
 "cells": [
  {
   "cell_type": "markdown",
   "metadata": {},
   "source": [
    "## OpenCV를 이용해서 도형을 그려보겠습니다.\n",
    "\n",
    "가장 먼저 검정색 사각형을 만들어 보겠습니다."
   ]
  },
  {
   "cell_type": "code",
   "execution_count": 1,
   "metadata": {},
   "outputs": [],
   "source": [
    "import cv2\n",
    "import numpy as np\n",
    "\n",
    "# 검정색 사각형 만들기\n",
    "image = np.zeros((512,512,3), np.uint8) #000이면 검은색이다 255 255 255는 흰색\n",
    "\n",
    "cv2.imshow(\"Black Rectangle (Color)\", image)\n",
    "\n",
    "cv2.waitKey(0)\n",
    "cv2.destroyAllWindows()"
   ]
  },
  {
   "cell_type": "markdown",
   "metadata": {},
   "source": [
    "### 검정색 사격형 상에 대각선 만들기\n",
    "노란색은 0, 255, 255 입니다."
   ]
  },
  {
   "cell_type": "code",
   "execution_count": 3,
   "metadata": {},
   "outputs": [],
   "source": [
    "# 두께가 4 픽셀이고, 노란색의 대각선을 만들어 보겠습니다.\n",
    "image = np.zeros((512,512,3), np.uint8)\n",
    "\n",
    "# 입력1: 이미지, 입력2: 시작지점, 입력3: 종료지점, 입력4: 색, 입력5: 두께\n",
    "cv2.line(image, (0,0), (511,511), (0,255,255), 10)\n",
    "cv2.imshow(\"Yellow Line\", image)\n",
    "\n",
    "cv2.waitKey(0)\n",
    "cv2.destroyAllWindows()"
   ]
  },
  {
   "cell_type": "markdown",
   "metadata": {},
   "source": [
    "### 검정색 사각형 상에 직사각형 만들기\n",
    "보라색은 127, 50, 127 입니다."
   ]
  },
  {
   "cell_type": "code",
   "execution_count": 6,
   "metadata": {},
   "outputs": [],
   "source": [
    "# 검정색 사각형 만들기\n",
    "image = np.zeros((512,512,3), np.uint8)\n",
    "\n",
    "# 입력1: 이미지, 입력2: 직사각형 좌상지점, \n",
    "# 입력3: 직사격형 우하지점, 입력4: 색, 입력5: 두께 * 두께를 -1로 변경하면\n",
    "cv2.rectangle(image, (100,100), (300,250), (127,50,127),5) #-1로 하면 채워짐 \n",
    "\n",
    "cv2.imshow(\"Rectangle\", image)\n",
    "cv2.waitKey(0)\n",
    "cv2.destroyAllWindows()"
   ]
  },
  {
   "cell_type": "markdown",
   "metadata": {},
   "source": [
    "### 원형 만들기\n",
    "\n",
    "국방색은 15, 75, 50 입니다."
   ]
  },
  {
   "cell_type": "code",
   "execution_count": 9,
   "metadata": {},
   "outputs": [],
   "source": [
    "image = np.zeros((512,512,3), np.uint8)\n",
    "\n",
    "# 입력1: 이미지, 입력2: 원의 센터, \n",
    "# 입력3: 반지름 픽셀, 입력4: 색, 입력5: 두께 \n",
    "cv2.circle(image, (350, 350), 100, (15,75,50), -1) \n",
    "\n",
    "cv2.imshow(\"Circle\", image)\n",
    "cv2.waitKey(0)\n",
    "cv2.destroyAllWindows()"
   ]
  },
  {
   "cell_type": "markdown",
   "metadata": {},
   "source": [
    "## 다각형은?"
   ]
  },
  {
   "cell_type": "code",
   "execution_count": 10,
   "metadata": {},
   "outputs": [],
   "source": [
    "image = np.zeros((512,512,3), np.uint8)\n",
    "\n",
    "# 4개의 지점을 정의합니다. \n",
    "pts = np.array( [[10,50], [400,50], [90,200], [50,500]], np.int32)\n",
    "# print(pts, pts.shape)\n",
    "\n",
    "# polyline 함수에 적합하도록 4개지점의 행렬형태를 변경합니다.\n",
    "pts = pts.reshape((-1,1,2))\n",
    "# print(pts, pts.shape)\n",
    "\n",
    "cv2.polylines(image, [pts], True, (0,0,255), 3)\n",
    "cv2.imshow(\"Polygon\", image)\n",
    "cv2.waitKey(0)\n",
    "cv2.destroyAllWindows()"
   ]
  },
  {
   "cell_type": "markdown",
   "metadata": {},
   "source": [
    "### 검정색 사각형에 문자 출력하기\n",
    "\n"
   ]
  },
  {
   "cell_type": "code",
   "execution_count": 17,
   "metadata": {},
   "outputs": [],
   "source": [
    "image = np.zeros((512,512,3), np.uint8)\n",
    "\n",
    "# 입력1: 이미지, 입력2: 문자, 입력3: 문자의 좌하단위치, 입력4: 폰트, \n",
    "# 입력5: 폰트크기, 입력6: 색, 입력7: 두께\n",
    "cv2.putText(image, 'Hello ~!', (75,290), cv2.FONT_HERSHEY_COMPLEX, 2, (100,170,0), 3)\n",
    "\n",
    "cv2.imshow(\"Hello\", image)\n",
    "cv2.waitKey(0)\n",
    "cv2.destroyAllWindows()"
   ]
  },
  {
   "cell_type": "code",
   "execution_count": null,
   "metadata": {},
   "outputs": [],
   "source": []
  }
 ],
 "metadata": {
  "kernelspec": {
   "display_name": "Python 3",
   "language": "python",
   "name": "python3"
  },
  "language_info": {
   "codemirror_mode": {
    "name": "ipython",
    "version": 3
   },
   "file_extension": ".py",
   "mimetype": "text/x-python",
   "name": "python",
   "nbconvert_exporter": "python",
   "pygments_lexer": "ipython3",
   "version": "3.7.3"
  }
 },
 "nbformat": 4,
 "nbformat_minor": 1
}
