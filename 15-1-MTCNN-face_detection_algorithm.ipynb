{
 "cells": [
  {
   "cell_type": "markdown",
   "metadata": {},
   "source": [
    "## MTCNN 을 적용하여 얼굴을 탐지하기 \n",
    "\n",
    "* 다음을 실행하여 라이브러리를 설치\n",
    "\n",
    ">pip install mtcnn\n",
    "\n",
    ">pip install tensorflow==1.13.1\n",
    "\n",
    ">pip install opencv-python==4.1.1"
   ]
  },
  {
   "cell_type": "markdown",
   "metadata": {},
   "source": [
    "### 한사람에 대한 얼굴탐지"
   ]
  },
  {
   "cell_type": "code",
   "execution_count": 5,
   "metadata": {},
   "outputs": [
    {
     "name": "stdout",
     "output_type": "stream",
     "text": [
      "[{'box': [305, 84, 161, 219], 'confidence': 0.9999914169311523, 'keypoints': {'left_eye': (338, 173), 'right_eye': (405, 175), 'nose': (365, 218), 'mouth_left': (341, 255), 'mouth_right': (404, 251)}}]\n"
     ]
    }
   ],
   "source": [
    "import cv2\n",
    "from mtcnn.mtcnn import MTCNN\n",
    "\n",
    "detector = MTCNN()\n",
    "\n",
    "image = cv2.cvtColor(cv2.imread(\"images/moon.jpg\"), cv2.COLOR_BGR2RGB)\n",
    "result = detector.detect_faces(image)\n",
    "\n",
    "# Result is an array with all the bounding boxes detected. We know that for 'ivan.jpg' there is only one.\n",
    "bounding_box = result[0]['box']\n",
    "keypoints = result[0]['keypoints']\n",
    "\n",
    "cv2.rectangle(image,\n",
    "              (bounding_box[0], bounding_box[1]),\n",
    "              (bounding_box[0]+bounding_box[2], bounding_box[1] + bounding_box[3]),\n",
    "              (0,155,255),\n",
    "              2)\n",
    "\n",
    "cv2.circle(image,(keypoints['left_eye']), 2, (0,155,255), 2)\n",
    "cv2.circle(image,(keypoints['right_eye']), 2, (0,155,255), 2)\n",
    "cv2.circle(image,(keypoints['nose']), 2, (0,155,255), 2)\n",
    "cv2.circle(image,(keypoints['mouth_left']), 2, (0,155,255), 2)\n",
    "cv2.circle(image,(keypoints['mouth_right']), 2, (0,155,255), 2)\n",
    "\n",
    "image = cv2.cvtColor(image, cv2.COLOR_RGB2BGR)\n",
    "# cv2.imwrite(\"output_image.jpg\", image)\n",
    "\n",
    "# print(result)\n",
    "\n",
    "cv2.imshow('Face Detection Results', image)\n",
    "\n",
    "cv2.waitKey(0)     \n",
    "cv2.destroyAllWindows()\n",
    "print(result)"
   ]
  },
  {
   "cell_type": "markdown",
   "metadata": {},
   "source": [
    "###  여러사람의 얼굴 탐지"
   ]
  },
  {
   "cell_type": "code",
   "execution_count": 6,
   "metadata": {},
   "outputs": [],
   "source": [
    "import cv2\n",
    "from mtcnn.mtcnn import MTCNN\n",
    "\n",
    "detector = MTCNN()\n",
    "\n",
    "image = cv2.cvtColor(cv2.imread(\"images/twice.jpg\"), cv2.COLOR_BGR2RGB)\n",
    "result = detector.detect_faces(image)\n",
    "\n",
    "for i in range(len(result)):\n",
    "    bounding_box = result[i]['box']\n",
    "    keypoints = result[i]['keypoints']\n",
    "\n",
    "    cv2.rectangle(image,\n",
    "                  (bounding_box[0], bounding_box[1]),\n",
    "                  (bounding_box[0]+bounding_box[2], bounding_box[1] + bounding_box[3]),\n",
    "                  (0,155,255),\n",
    "                  2)\n",
    "\n",
    "    cv2.circle(image,(keypoints['left_eye']), 2, (0,155,255), 2)\n",
    "    cv2.circle(image,(keypoints['right_eye']), 2, (0,155,255), 2)\n",
    "    cv2.circle(image,(keypoints['nose']), 2, (0,155,255), 2)\n",
    "    cv2.circle(image,(keypoints['mouth_left']), 2, (0,155,255), 2)\n",
    "    cv2.circle(image,(keypoints['mouth_right']), 2, (0,155,255), 2)\n",
    "\n",
    "image = cv2.cvtColor(image, cv2.COLOR_RGB2BGR)\n",
    "# cv2.imwrite(\"output_image.jpg\", image)\n",
    "\n",
    "# print(result)\n",
    "\n",
    "cv2.imshow('Face Detection Results', image)\n",
    "\n",
    "cv2.waitKey(0)     \n",
    "cv2.destroyAllWindows()\n"
   ]
  },
  {
   "cell_type": "code",
   "execution_count": null,
   "metadata": {},
   "outputs": [],
   "source": []
  }
 ],
 "metadata": {
  "kernelspec": {
   "display_name": "Python 3",
   "language": "python",
   "name": "python3"
  },
  "language_info": {
   "codemirror_mode": {
    "name": "ipython",
    "version": 3
   },
   "file_extension": ".py",
   "mimetype": "text/x-python",
   "name": "python",
   "nbconvert_exporter": "python",
   "pygments_lexer": "ipython3",
   "version": "3.7.4"
  }
 },
 "nbformat": 4,
 "nbformat_minor": 2
}
