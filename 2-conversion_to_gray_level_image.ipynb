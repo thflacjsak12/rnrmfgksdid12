{
 "cells": [
  {
   "cell_type": "markdown",
   "metadata": {},
   "source": [
    "## 흑백으로 전환하기(Grayscale)\n",
    "\n",
    "#### 1. 다양한 색의 이미지를 검정색과 흰색으로 전환\n",
    "\n",
    "이미지는 높이 및 너비 외에도 RGB의 정보를 갖기 때문에 3차원 형태의 행렬로 표현됩니다. 이것은 다양한 픽셀 정보를 갖지만 이미지 처리에 많은 연산이 소요됩니다. 그러나 흑백전환(Grayscale)기법을 적용하면 RGB는 0~255사이의 값으로 전환되어 이미지는 2차원 형태의 행렬로 표현됩니다. 이것은 연산소요 1/3으로 줄어들어 보다 빠른 속도로 영상처리가 가능합니다.\n"
   ]
  },
  {
   "cell_type": "code",
   "execution_count": 1,
   "metadata": {},
   "outputs": [],
   "source": [
    "import cv2\n",
    "\n",
    "# 이미지를 불러오기\n",
    "image = cv2.imread('images/cute_dog.jpg')\n",
    "cv2.imshow('Original', image)\n",
    "cv2.waitKey(0)\n",
    "\n",
    "# cvtColor 함수를 사용하여 grayscale로 전환하기\n",
    "gray_image = cv2.cvtColor(image, cv2.COLOR_BGR2GRAY)\n",
    "\n",
    "# 흑백이미지를 출력하기\n",
    "cv2.imshow('Grayscale', gray_image)\n",
    "cv2.waitKey(0)\n",
    "cv2.destroyAllWindows()"
   ]
  },
  {
   "cell_type": "code",
   "execution_count": 2,
   "metadata": {},
   "outputs": [],
   "source": [
    "# cvtColor 함수를 사용하지 않고 하는 간단한 방법 \n",
    "img = cv2.imread('images/cute_dog.jpg',0) #0으로 놓으면 바로 흑백이 나옴\n",
    "\n",
    "cv2.imshow('Grayscale', img)\n",
    "cv2.waitKey(0)\n",
    "cv2.destroyAllWindows()"
   ]
  },
  {
   "cell_type": "code",
   "execution_count": null,
   "metadata": {},
   "outputs": [],
   "source": []
  }
 ],
 "metadata": {
  "kernelspec": {
   "display_name": "Python 3",
   "language": "python",
   "name": "python3"
  },
  "language_info": {
   "codemirror_mode": {
    "name": "ipython",
    "version": 3
   },
   "file_extension": ".py",
   "mimetype": "text/x-python",
   "name": "python",
   "nbconvert_exporter": "python",
   "pygments_lexer": "ipython3",
   "version": "3.7.4"
  }
 },
 "nbformat": 4,
 "nbformat_minor": 1
}
