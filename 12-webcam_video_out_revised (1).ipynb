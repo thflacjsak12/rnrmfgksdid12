{
 "cells": [
  {
   "cell_type": "markdown",
   "metadata": {},
   "source": [
    "## 웹캠으로 실시간 영상 출력하기\n",
    "\n",
    "먼저, 가장 기본이 되는 웹캠 연결을 해봅시다."
   ]
  },
  {
   "cell_type": "code",
   "execution_count": 2,
   "metadata": {},
   "outputs": [],
   "source": [
    "import cv2\n",
    "import numpy as np\n",
    "\n",
    "# 이미지가 아닌 비디오 영상을 얻어오기 위해선\n",
    "# cv2.VideoCapture 함수를 사용한다. 괄호안의 0은 \n",
    "# 컴퓨터에 장착된 웹캠을 의미하고 USB 웹캠사용시\n",
    "# 숫자는 1 ~9 안의 숫자를 사용한다.\n",
    "# cap = cv2.VideoCapture(0)\n",
    "camera_number = 0\n",
    "cap = cv2.VideoCapture(camera_number + cv2.CAP_DSHOW )\n",
    "cap.set(cv2.CAP_PROP_FRAME_WIDTH,680)\n",
    "cap.set(cv2.CAP_PROP_FRAME_HEIGHT,340)\n",
    "\n",
    "while True:\n",
    "    ret, frame = cap.read()  # frame을 이미지로\n",
    "    cv2.imshow('Webcam Streaming', frame)\n",
    "    if cv2.waitKey(1) == 13: #13 is 엔터키 이다.\n",
    "        break\n",
    "        \n",
    "# 카메라 기능 종료시 창도 종료되도록 한다.\n",
    "# 이함수는 반드시 입력한다.\n",
    "cap.release()\n",
    "cv2.destroyAllWindows() "
   ]
  },
  {
   "cell_type": "markdown",
   "metadata": {},
   "source": [
    "이번에는 웹캠영상에 다음과 같은 기능을 넣어 봅시다.\n",
    "\n",
    "* 이미지를 흑백으로 변환시키기\n",
    "* 이미지를 뿌옇게 만들어 보기\n",
    "* Canny Edge Detection 구현해보기"
   ]
  },
  {
   "cell_type": "markdown",
   "metadata": {},
   "source": [
    "#### 1) 이미지 흑백으로 변환시키기"
   ]
  },
  {
   "cell_type": "code",
   "execution_count": null,
   "metadata": {},
   "outputs": [],
   "source": [
    "import cv2\n",
    "import numpy as np\n",
    "\n",
    "cap = cv2.VideoCapture(0)\n",
    "\n",
    "while True:\n",
    "    ret, frame = cap.read()  \n",
    "    \n",
    "    img_gray = cv2.cvtColor(frame, cv2.COLOR_BGR2GRAY)\n",
    "    \n",
    "    image  = img_gray\n",
    "    cv2.imshow('Webcam Streaming', image)\n",
    "    if cv2.waitKey(1) == 13: #13 is 엔터키 이다.\n",
    "        break\n",
    "        \n",
    "cap.release()\n",
    "cv2.destroyAllWindows() "
   ]
  },
  {
   "cell_type": "markdown",
   "metadata": {},
   "source": [
    "#### 2) 이미지 뿌옇게 만들기"
   ]
  },
  {
   "cell_type": "code",
   "execution_count": null,
   "metadata": {},
   "outputs": [],
   "source": [
    "import cv2\n",
    "import numpy as np\n",
    "\n",
    "cap = cv2.VideoCapture(0)\n",
    "\n",
    "while True:\n",
    "    ret, frame = cap.read()  \n",
    "    \n",
    "    img_blur = cv2.GaussianBlur(frame, (7,7), 0)\n",
    "    \n",
    "    image  = img_blur\n",
    "    cv2.imshow('Webcam Streaming', image)\n",
    "    if cv2.waitKey(1) == 13: #13 is 엔터키 이다.\n",
    "        break\n",
    "        \n",
    "cap.release()\n",
    "cv2.destroyAllWindows() "
   ]
  },
  {
   "cell_type": "markdown",
   "metadata": {},
   "source": [
    "#### 3) Canny Edge Detection 적용하기\n"
   ]
  },
  {
   "cell_type": "code",
   "execution_count": null,
   "metadata": {},
   "outputs": [],
   "source": [
    "import cv2\n",
    "import numpy as np\n",
    "\n",
    "cap = cv2.VideoCapture(0)\n",
    "\n",
    "while True:\n",
    "    ret, frame = cap.read()  \n",
    "    \n",
    "    img_gray = cv2.cvtColor(frame, cv2.COLOR_BGR2GRAY)\n",
    "    img_blur = cv2.GaussianBlur(img_gray, (7,7), 0)\n",
    "    canny_edges = cv2.Canny(img_blur, 10, 30)\n",
    "\n",
    "    image  = canny_edges\n",
    "    cv2.imshow('Webcam Streaming', image)\n",
    "    if cv2.waitKey(1) == 13: #13 is 엔터키 이다.\n",
    "        break\n",
    "        \n",
    "cap.release()\n",
    "cv2.destroyAllWindows() "
   ]
  },
  {
   "cell_type": "markdown",
   "metadata": {},
   "source": [
    "#### Canny Edge Detection 흑백을 반전시키기"
   ]
  },
  {
   "cell_type": "code",
   "execution_count": null,
   "metadata": {},
   "outputs": [],
   "source": [
    "import cv2\n",
    "import numpy as np\n",
    "\n",
    "cap = cv2.VideoCapture(0)\n",
    "\n",
    "while True:\n",
    "    ret, frame = cap.read()  \n",
    "    \n",
    "    img_gray = cv2.cvtColor(frame, cv2.COLOR_BGR2GRAY)\n",
    "    img_blur = cv2.GaussianBlur(img_gray, (7,7), 0)\n",
    "    canny_edges = cv2.Canny(img_blur, 10, 50)\n",
    "    ret, mask = cv2.threshold(canny_edges, 30, 255, cv2.THRESH_BINARY_INV)\n",
    "\n",
    "    image  = mask\n",
    "    cv2.imshow('Webcam Streaming', image)\n",
    "    if cv2.waitKey(1) == 13: #13 is 엔터키 이다.\n",
    "        break\n",
    "        \n",
    "cap.release()\n",
    "cv2.destroyAllWindows() "
   ]
  },
  {
   "cell_type": "code",
   "execution_count": null,
   "metadata": {},
   "outputs": [],
   "source": []
  }
 ],
 "metadata": {
  "kernelspec": {
   "display_name": "Python 3",
   "language": "python",
   "name": "python3"
  },
  "language_info": {
   "codemirror_mode": {
    "name": "ipython",
    "version": 3
   },
   "file_extension": ".py",
   "mimetype": "text/x-python",
   "name": "python",
   "nbconvert_exporter": "python",
   "pygments_lexer": "ipython3",
   "version": "3.7.3"
  }
 },
 "nbformat": 4,
 "nbformat_minor": 1
}
