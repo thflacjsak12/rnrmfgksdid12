{
 "cells": [
  {
   "cell_type": "code",
   "execution_count": 1,
   "metadata": {},
   "outputs": [],
   "source": [
    "import cv2\n",
    "import numpy as np\n",
    "\n",
    "# 이미지가 아닌 비디오 영상을 얻어오기 위해선\n",
    "# cv2.VideoCapture 함수를 사용한다. 괄호안의 0은 \n",
    "# 컴퓨터에 장착된 웹캠을 의미하고 USB 웹캠사용시\n",
    "# 숫자는 1 ~9 안의 숫자를 사용한다.\n",
    "cap = cv2.VideoCapture(0)\n",
    "\n",
    "while True:\n",
    "    ret, frame = cap.read()  # frame을 이미지로\n",
    "    cv2.imshow('Webcam Streaming', frame)\n",
    "    if cv2.waitKey(1) == 13: #13 is 엔터키 이다.\n",
    "        break\n",
    "        \n",
    "# 카메라 기능 종료시 창도 종료되도록 한다.\n",
    "# 이함수는 반드시 입력한다.\n",
    "cap.release()\n",
    "cv2.destroyAllWindows() "
   ]
  },
  {
   "cell_type": "code",
   "execution_count": 2,
   "metadata": {},
   "outputs": [],
   "source": [
    "import cv2\n",
    "import numpy as np\n",
    "\n",
    "cap = cv2.VideoCapture(0)\n",
    "\n",
    "while True:\n",
    "    ret, frame = cap.read()  \n",
    "    \n",
    "    img_gray = cv2.cvtColor(frame, cv2.COLOR_BGR2GRAY)\n",
    "    \n",
    "    image  = img_gray\n",
    "    cv2.imshow('Webcam Streaming', image)\n",
    "    if cv2.waitKey(1) == 13: #13 is 엔터키 이다.\n",
    "        break\n",
    "        \n",
    "cap.release()\n",
    "cv2.destroyAllWindows() "
   ]
  },
  {
   "cell_type": "code",
   "execution_count": 3,
   "metadata": {},
   "outputs": [],
   "source": [
    "import cv2\n",
    "import numpy as np\n",
    "\n",
    "cap = cv2.VideoCapture(0)\n",
    "\n",
    "while True:\n",
    "    ret, frame = cap.read()  \n",
    "    \n",
    "    img_blur = cv2.GaussianBlur(frame, (7,7), 0)\n",
    "    \n",
    "    image  = img_blur\n",
    "    cv2.imshow('Webcam Streaming', image)\n",
    "    if cv2.waitKey(1) == 13: #13 is 엔터키 이다.\n",
    "        break\n",
    "        \n",
    "cap.release()\n",
    "cv2.destroyAllWindows() "
   ]
  },
  {
   "cell_type": "code",
   "execution_count": 4,
   "metadata": {},
   "outputs": [],
   "source": [
    "import cv2\n",
    "import numpy as np\n",
    "\n",
    "cap = cv2.VideoCapture(0)\n",
    "\n",
    "while True:\n",
    "    ret, frame = cap.read()  \n",
    "    \n",
    "    img_gray = cv2.cvtColor(frame, cv2.COLOR_BGR2GRAY)\n",
    "    img_blur = cv2.GaussianBlur(img_gray, (7,7), 0)\n",
    "    canny_edges = cv2.Canny(img_blur, 10, 30)\n",
    "\n",
    "    image  = canny_edges\n",
    "    cv2.imshow('Webcam Streaming', image)\n",
    "    if cv2.waitKey(1) == 13: #13 is 엔터키 이다.\n",
    "        break\n",
    "        \n",
    "cap.release()\n",
    "cv2.destroyAllWindows() "
   ]
  },
  {
   "cell_type": "code",
   "execution_count": 5,
   "metadata": {},
   "outputs": [],
   "source": [
    "import cv2\n",
    "import numpy as np\n",
    "\n",
    "cap = cv2.VideoCapture(0)\n",
    "\n",
    "while True:\n",
    "    ret, frame = cap.read()  \n",
    "    \n",
    "    img_gray = cv2.cvtColor(frame, cv2.COLOR_BGR2GRAY)\n",
    "    img_blur = cv2.GaussianBlur(img_gray, (7,7), 0)\n",
    "    canny_edges = cv2.Canny(img_blur, 10, 50)\n",
    "    ret, mask = cv2.threshold(canny_edges, 30, 255, cv2.THRESH_BINARY_INV)\n",
    "\n",
    "    image  = mask\n",
    "    cv2.imshow('Webcam Streaming', image)\n",
    "    if cv2.waitKey(1) == 13: #13 is 엔터키 이다.\n",
    "        break\n",
    "        \n",
    "cap.release()\n",
    "cv2.destroyAllWindows() "
   ]
  },
  {
   "cell_type": "code",
   "execution_count": 7,
   "metadata": {},
   "outputs": [
    {
     "data": {
      "image/png": "[encoded data removed]",
      "text/plain": [
       "<Figure size 432x288 with 1 Axes>"
      ]
     },
     "metadata": {
      "needs_background": "light"
     },
     "output_type": "display_data"
    },
    {
     "data": {
      "image/png": "[encoded data removed]",
      "text/plain": [
       "<Figure size 432x288 with 1 Axes>"
      ]
     },
     "metadata": {
      "needs_background": "light"
     },
     "output_type": "display_data"
    }
   ],
   "source": [
    "import cv2\n",
    "import numpy as np\n",
    "\n",
    "# 이번에는 히스토그램 출력을 위해 matplotlib를 사용합니다.\n",
    "import matplotlib.pyplot as plt #공식처럼 외우자\n",
    "\n",
    "image = cv2.imread('images/cute_dog.jpg')\n",
    "\n",
    "histogram = cv2.calcHist([image], [0], None, [256], [0, 256])\n",
    "\n",
    "# matplotlib에서 제공하는 히스토그램 함수를 사용해서 출력 가능하고\n",
    "plt.hist(image.ravel(), 256, [0, 256])\n",
    "plt.show()\n",
    "\n",
    "# 색을 3가지로 구분하여\n",
    "color = ('b', 'g', 'r')\n",
    "\n",
    "# For 문을 이용하여 각각의 색별로 히스토그램을 출력합니다.\n",
    "for i, col in enumerate(color):\n",
    "    histogram2 = cv2.calcHist([image], [i], None, [256], [0, 256])\n",
    "    plt.plot(histogram2, color = col)\n",
    "    plt.xlim([0,256])\n",
    "    \n",
    "plt.show()"
   ]
  },
  {
   "cell_type": "code",
   "execution_count": null,
   "metadata": {},
   "outputs": [],
   "source": [
    "import cv2\n",
    "import numpy as np\n",
    "import matplotlib.pyplot as plt\n",
    "\n",
    "# 이미지 불러오기\n",
    "image1 = cv2.imread('images/beach_waldo.jpg')\n",
    "image2 = cv2.imread('images/waldo.jpg')\n",
    "\n",
    "\n",
    "plt.figure(figsize=(12,5))\n",
    "plt.subplot(1,2,1) # 바닷가 사진 출력하기\n",
    "plt.imshow(cv2.cvtColor(image1, cv2.COLOR_BGR2RGB))\n",
    "\n",
    "plt.subplot(1,2,2) # 왈도 사진 출력하기\n",
    "plt.imshow(cv2.cvtColor(image2, cv2.COLOR_BGR2RGB))\n",
    "plt.show()"
   ]
  },
  {
   "cell_type": "code",
   "execution_count": null,
   "metadata": {},
   "outputs": [],
   "source": [
    "import cv2\n",
    "import numpy as np\n",
    "\n",
    "\n",
    "win_title = 'Mouse Event'\n",
    "image = np.zeros((512,512,3), np_unit8)\n",
    "cv2.imshow(win_title,image)\n",
    "\n",
    "def clickMouse(event,x,y,flags,param):\n",
    "    print(event,x,y)\n",
    "    if event==cv2.EVENT_LBUTTONDOWN"
   ]
  }
 ],
 "metadata": {
  "kernelspec": {
   "display_name": "Python 3",
   "language": "python",
   "name": "python3"
  },
  "language_info": {
   "codemirror_mode": {
    "name": "ipython",
    "version": 3
   },
   "file_extension": ".py",
   "mimetype": "text/x-python",
   "name": "python",
   "nbconvert_exporter": "python",
   "pygments_lexer": "ipython3",
   "version": "3.7.3"
  }
 },
 "nbformat": 4,
 "nbformat_minor": 2
}
