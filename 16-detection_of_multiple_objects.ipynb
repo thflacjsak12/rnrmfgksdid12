{
 "cells": [
  {
   "cell_type": "markdown",
   "metadata": {},
   "source": [
    "### 다중물체를 탐지하기"
   ]
  },
  {
   "cell_type": "markdown",
   "metadata": {},
   "source": [
    "#### 이미지 상에서 다중물체 탐지하기\n",
    "\n",
    "이것을 실행하기 위해선 아래의 라이브러리를 설치해야합니다.\n",
    "> pip install tensorflow==1.13.1\n",
    "\n",
    "> pip install opencv-python\n",
    "\n",
    "> pip install imageai\n",
    "\n",
    "> pip install keras\n",
    "\n"
   ]
  },
  {
   "cell_type": "code",
   "execution_count": 2,
   "metadata": {},
   "outputs": [
    {
     "name": "stdout",
     "output_type": "stream",
     "text": [
      "dog  :  91.02076292037964  :  [397, 312, 447, 433]\n",
      "--------------------------------\n",
      "motorcycle  :  94.00216937065125  :  [266, 191, 345, 305]\n",
      "--------------------------------\n",
      "car  :  98.45846891403198  :  [190, 141, 369, 288]\n",
      "--------------------------------\n",
      "person  :  66.52777791023254  :  [458, 146, 511, 267]\n",
      "--------------------------------\n",
      "person  :  97.79707789421082  :  [11, 106, 63, 246]\n",
      "--------------------------------\n",
      "person  :  98.00112843513489  :  [602, 134, 638, 213]\n",
      "--------------------------------\n",
      "person  :  99.6942400932312  :  [539, 105, 578, 223]\n",
      "--------------------------------\n",
      "person  :  99.79894757270813  :  [157, 135, 248, 386]\n",
      "--------------------------------\n"
     ]
    }
   ],
   "source": [
    "from imageai.Detection import ObjectDetection\n",
    "import os\n",
    "\n",
    "execution_path = os.getcwd()\n",
    "# print(execution_path)\n",
    "\n",
    "# 모델 설정하기\n",
    "detector = ObjectDetection()\n",
    "detector.setModelTypeAsYOLOv3()\n",
    "detector.setModelPath( os.path.join(execution_path , \"models/yolo.h5\"))\n",
    "\n",
    "# 모델 성능 설정하기\n",
    "detector.loadModel(detection_speed=\"normal\") #fast, faster, fastest, flash\n",
    "\n",
    "# 모델에 이미지 입력 및 출력 설정하기\n",
    "detections = detector.detectObjectsFromImage(\n",
    "    input_image=os.path.join(execution_path , \"images/street.jpg\"), \n",
    "    output_image_path=os.path.join(execution_path , \"image_out.jpg\"), \n",
    "    minimum_percentage_probability=50)\n",
    "\n",
    "# 실행결과 출력하기\n",
    "for eachObject in detections:\n",
    "    print(eachObject[\"name\"] , \" : \", eachObject[\"percentage_probability\"], \" : \", eachObject[\"box_points\"] )\n",
    "    print(\"--------------------------------\")\n"
   ]
  },
  {
   "cell_type": "code",
   "execution_count": null,
   "metadata": {},
   "outputs": [],
   "source": []
  }
 ],
 "metadata": {
  "kernelspec": {
   "display_name": "Python 3",
   "language": "python",
   "name": "python3"
  },
  "language_info": {
   "codemirror_mode": {
    "name": "ipython",
    "version": 3
   },
   "file_extension": ".py",
   "mimetype": "text/x-python",
   "name": "python",
   "nbconvert_exporter": "python",
   "pygments_lexer": "ipython3",
   "version": "3.7.4"
  }
 },
 "nbformat": 4,
 "nbformat_minor": 2
}
