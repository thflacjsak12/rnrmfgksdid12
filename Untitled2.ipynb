{
 "cells": [
  {
   "cell_type": "code",
   "execution_count": 1,
   "metadata": {},
   "outputs": [
    {
     "name": "stderr",
     "output_type": "stream",
     "text": [
      "Using TensorFlow backend.\n"
     ]
    },
    {
     "name": "stdout",
     "output_type": "stream",
     "text": [
      "WARNING:tensorflow:From C:\\anaconda\\envs\\termproj\\lib\\site-packages\\tensorflow\\python\\ops\\resource_variable_ops.py:435: colocate_with (from tensorflow.python.framework.ops) is deprecated and will be removed in a future version.\n",
      "Instructions for updating:\n",
      "Colocations handled automatically by placer.\n",
      "dog  :  86.03464961051941  :  [394, 314, 448, 432]\n",
      "--------------------------------\n",
      "motorcycle  :  71.2560772895813  :  [236, 144, 357, 310]\n",
      "--------------------------------\n",
      "motorcycle  :  76.1675238609314  :  [269, 198, 337, 312]\n",
      "--------------------------------\n",
      "car  :  90.52526354789734  :  [186, 137, 372, 289]\n",
      "--------------------------------\n",
      "person  :  95.37915587425232  :  [600, 129, 640, 208]\n",
      "--------------------------------\n",
      "person  :  96.82267308235168  :  [8, 100, 67, 244]\n",
      "--------------------------------\n",
      "person  :  99.33871030807495  :  [536, 104, 582, 219]\n",
      "--------------------------------\n",
      "person  :  99.65996146202087  :  [154, 145, 248, 376]\n",
      "--------------------------------\n"
     ]
    }
   ],
   "source": [
    "# -*- coding: utf-8 -*-\n",
    "\"\"\"\n",
    "Created on Tue Nov 19 23:50:48 2019\n",
    "\n",
    "@author: Kim\n",
    "\"\"\"\n",
    "\n",
    "from imageai.Detection import ObjectDetection\n",
    "import os\n",
    "\n",
    "execution_path = os.getcwd()\n",
    "# print(execution_path)\n",
    "\n",
    "# 모델 설정하기\n",
    "detector = ObjectDetection()\n",
    "detector.setModelTypeAsYOLOv3()\n",
    "detector.setModelPath( os.path.join(execution_path , \"models/yolo.h5\"))\n",
    "\n",
    "# 모델 성능 설정하기\n",
    "detector.loadModel(detection_speed=\"fast\") #fast, faster, fastest, flash\n",
    "\n",
    "# 모델에 이미지 입력 및 출력 설정하기\n",
    "detections = detector.detectObjectsFromImage(\n",
    "    input_image=os.path.join(execution_path , \"images/street.jpg\"), \n",
    "    output_image_path=os.path.join(execution_path , \"image_out.jpg\"), \n",
    "    minimum_percentage_probability=50)\n",
    "\n",
    "# 실행결과 출력하기\n",
    "for eachObject in detections:\n",
    "    print(eachObject[\"name\"] , \" : \", eachObject[\"percentage_probability\"], \" : \", eachObject[\"box_points\"] )\n",
    "    print(\"--------------------------------\")"
   ]
  },
  {
   "cell_type": "code",
   "execution_count": null,
   "metadata": {},
   "outputs": [],
   "source": []
  }
 ],
 "metadata": {
  "kernelspec": {
   "display_name": "Python 3",
   "language": "python",
   "name": "python3"
  },
  "language_info": {
   "codemirror_mode": {
    "name": "ipython",
    "version": 3
   },
   "file_extension": ".py",
   "mimetype": "text/x-python",
   "name": "python",
   "nbconvert_exporter": "python",
   "pygments_lexer": "ipython3",
   "version": "3.7.3"
  }
 },
 "nbformat": 4,
 "nbformat_minor": 2
}
