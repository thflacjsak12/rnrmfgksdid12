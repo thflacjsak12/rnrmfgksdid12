{
 "cells": [
  {
   "cell_type": "markdown",
   "metadata": {},
   "source": [
    "### 두개의 이미지 알파 블랜딩으로 합성하기\n",
    "\n",
    "* 페이드 인/아웃 및 영화의 변신 장면에서 얼굴 모핑(face morphing) 기법에 활용"
   ]
  },
  {
   "cell_type": "code",
   "execution_count": 1,
   "metadata": {},
   "outputs": [],
   "source": [
    "import cv2\n",
    "import numpy as np\n",
    "\n",
    "def face_morphing(x):\n",
    "    q = x/100\n",
    "    temp = cv2.addWeighted(img1, 1-q, img2, q, 0)\n",
    "    cv2.imshow('results', temp)\n",
    "    \n",
    "# 두가지의 합성영상    \n",
    "img1 = cv2.imread('images/abe.jpg')\n",
    "img1 = cv2.resize(img1, (640, 480))\n",
    "img2 = cv2.imread('images/moon.jpg')\n",
    "img2 = cv2.resize(img2, (640, 480))\n",
    "\n",
    "# 이미지 표시 및 트랙바 붙이기\n",
    "cv2.imshow('Alpha Blending', img1)\n",
    "cv2.createTrackbar('TrackBar', 'Alpha Blending', 0, 100, face_morphing)\n",
    "\n",
    "cv2.waitKey()\n",
    "cv2.destroyAllWindows()"
   ]
  },
  {
   "cell_type": "code",
   "execution_count": 4,
   "metadata": {},
   "outputs": [
    {
     "name": "stdout",
     "output_type": "stream",
     "text": [
      "97\n"
     ]
    }
   ],
   "source": [
    "\n",
    "print(ord('a'))"
   ]
  },
  {
   "cell_type": "code",
   "execution_count": null,
   "metadata": {},
   "outputs": [],
   "source": []
  }
 ],
 "metadata": {
  "kernelspec": {
   "display_name": "Python 3",
   "language": "python",
   "name": "python3"
  },
  "language_info": {
   "codemirror_mode": {
    "name": "ipython",
    "version": 3
   },
   "file_extension": ".py",
   "mimetype": "text/x-python",
   "name": "python",
   "nbconvert_exporter": "python",
   "pygments_lexer": "ipython3",
   "version": "3.7.3"
  }
 },
 "nbformat": 4,
 "nbformat_minor": 2
}
